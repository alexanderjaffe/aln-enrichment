{
 "cells": [
  {
   "cell_type": "markdown",
   "metadata": {},
   "source": [
    "# aln-enrichment genome prep\n",
    "### Jaffe, Fuster et al. 2021"
   ]
  },
  {
   "cell_type": "code",
   "execution_count": 162,
   "metadata": {},
   "outputs": [],
   "source": [
    "import re, glob, os, math, re, scipy, ecopy, gzip, pysam, random\n",
    "from collections import defaultdict\n",
    "from ete3 import Tree\n",
    "import numpy as np\n",
    "import pandas as pd\n",
    "from Bio import SeqIO, SearchIO\n",
    "import matplotlib.pyplot as plt\n",
    "import subprocess as sp\n",
    "import seaborn as sns\n",
    "sns.set('notebook')\n",
    "%matplotlib inline \n",
    "import warnings\n",
    "warnings.filterwarnings('ignore')\n",
    "\n",
    "import urllib\n",
    "from Bio import Entrez\n",
    "from multiprocessing import Pool\n",
    "from bs4 import BeautifulSoup\n",
    "Entrez.email = \"alexander_jaffe@berkeley.edu\""
   ]
  },
  {
   "cell_type": "code",
   "execution_count": 522,
   "metadata": {},
   "outputs": [],
   "source": [
    "def cmdir(path):\n",
    "    if not os.path.isdir(path):\n",
    "        os.mkdir(path)\n",
    "        \n",
    "def scaffold(gene):\n",
    "    if gene != \"None\":\n",
    "        try: return re.search(\"(.+?)_[0-9]+$\", gene).group(1)\n",
    "        except: print(gene)"
   ]
  },
  {
   "cell_type": "code",
   "execution_count": 3,
   "metadata": {},
   "outputs": [],
   "source": [
    "rootdir = \"/groups/banfield/projects/environmental/LacPavin/analysis/aln/\"\n",
    "cmdir(rootdir)"
   ]
  },
  {
   "cell_type": "markdown",
   "metadata": {},
   "source": [
    "# create bins"
   ]
  },
  {
   "cell_type": "code",
   "execution_count": null,
   "metadata": {},
   "outputs": [],
   "source": [
    "cmdir(rootdir + \"dna\")\n",
    "cmdir(rootdir + \"dna/mapping\")\n",
    "assembly_path = glob.glob(rootdir.replace(\"analysis\", \"megahit\") + \"/*min1000.fa\")[0]\n",
    "fwd_path = \"/groups/banfield/sequences/2020/LacPavin_0920_ALND/raw.d/LacPavin_0920_ALND_trim_clean.PE.1.fastq.gz\""
   ]
  },
  {
   "cell_type": "markdown",
   "metadata": {},
   "source": [
    "### mapping"
   ]
  },
  {
   "cell_type": "code",
   "execution_count": null,
   "metadata": {},
   "outputs": [],
   "source": [
    "# generate mapping\n",
    "build = \"bowtie2-build \" + assembly_path + \" \" + rootdir + \"dna/\" + os.path.basename(assembly_path)\n",
    "mapping = \"/shared/software/bin/bowtie2 -p 48 -x \" + rootdir + \"dna/mapping/\" + os.path.basename(assembly_path) + \" -1 \" + \\\n",
    "    fwd_path + \" -2 \" + fwd_path.replace(\".1.\", \".2.\") + \" 2> \" + rootdir + \"dna/mapping/mapping.log | /shared/software/bin/samtools view -S -b > \" + \\\n",
    "    rootdir + \"dna/mapping/mapping.bam\"\n",
    "# generate sorted bam + idx\n",
    "sort = \"/shared/software/bin/samtools sort --threads 45 \" + rootdir + \"dna/mapping/mapping.bam > \" + rootdir + \"dna/mapping/mapping.sorted.bam\"\n",
    "index = \"/shared/software/bin/samtools index -@ 48 \" + rootdir + \"dna/mapping/mapping.sorted.bam\"\n",
    "print(index)"
   ]
  },
  {
   "cell_type": "markdown",
   "metadata": {},
   "source": [
    "### auto binning"
   ]
  },
  {
   "cell_type": "code",
   "execution_count": null,
   "metadata": {},
   "outputs": [],
   "source": [
    "cmdir(rootdir + \"dna/binning\")"
   ]
  },
  {
   "cell_type": "code",
   "execution_count": null,
   "metadata": {},
   "outputs": [],
   "source": [
    "# generate table\n",
    "jgi = \"/shared/software/bin/jgi_summarize_bam_contig_depths --outputDepth \" + rootdir + \\\n",
    "    \"dna/binning/mapping.txt \" + rootdir + \"dna/mapping/mapping.sorted.bam\"\n",
    "print(jgi)"
   ]
  },
  {
   "cell_type": "code",
   "execution_count": null,
   "metadata": {},
   "outputs": [],
   "source": [
    "#metabat\n",
    "cmdir(rootdir + \"dna/binning/metabat\")\n",
    "metabat = \"/shared/software/bin/metabat2 -t 48 -m 1000 -i \" + assembly_path + \" -a \" + \\\n",
    "    rootdir + \"dna/binning/mapping.txt -o \" + rootdir + \"dna/binning/metabat/metabat\"\n",
    "print(metabat)"
   ]
  },
  {
   "cell_type": "code",
   "execution_count": null,
   "metadata": {},
   "outputs": [],
   "source": [
    "# rename bins\n",
    "for bin in glob.glob(rootdir + \"dna/binning/metabat/metabat*fa\"):\n",
    "    call = \"mv \" + bin + \" \" + bin.replace(\"metabat.\", \"LacPavin_0920_ALND.metabat\")\n",
    "    sp.call(call, shell=True)"
   ]
  },
  {
   "cell_type": "code",
   "execution_count": null,
   "metadata": {},
   "outputs": [],
   "source": [
    "# generate scaffold to bin - rename bins\n",
    "filename = rootdir + \"dna/binning/LacPavin_0920_ALND.metabat.scaf2bin.txt\"\n",
    "\n",
    "with open(filename, \"w\") as outfile:\n",
    "    for bin in glob.glob(rootdir + \"dna/binning/metabat/*fa\"):\n",
    "        for record in SeqIO.parse(open(bin), \"fasta\"):\n",
    "            outfile.write(record.description.split(\" \")[0] + \"\\t\" + os.path.basename(bin).replace(\".fa\", \"\") + \"\\n\")"
   ]
  },
  {
   "cell_type": "code",
   "execution_count": null,
   "metadata": {},
   "outputs": [],
   "source": [
    "# fix ggkbase one\n",
    "ggin = pd.read_csv(rootdir + \"dna/binning/LacPavin_0920_ALND.scaffolds_to_bin.txt\", sep=\"\\t\")\n",
    "ggin[~ggin[\"bin\"].str.contains(\"UNK\")][[\"scaffold_name\", \"bin\"]].to_csv(rootdir + \"dna/binning/LacPavin_0920_ALND.ggkbase.scaf2bin.txt\", header=False, index=False, sep=\"\\t\")"
   ]
  },
  {
   "cell_type": "code",
   "execution_count": null,
   "metadata": {},
   "outputs": [],
   "source": [
    "tables = \",\".join(glob.glob(rootdir + \"dna/binning/*scaf2bin*\"))\n",
    "labels = \",\".join(os.path.basename(path).split(\".\")[1] \n",
    "    for path in glob.glob(rootdir + \"dna/binning/*scaf2bin*\"))\n",
    "\n",
    "cmdir(rootdir + \"dna/binning/dastool\")\n",
    "dastool = \"sbatch -J dast --wrap '/shared/software/bin/DAS_Tool -t 48 -i \" + tables + \" -l \" + \\\n",
    "    labels + \" -c \" + assembly_path + \" -o \" + rootdir + \"dna/binning/dastool/'\"\n",
    "print(dastool)"
   ]
  },
  {
   "cell_type": "code",
   "execution_count": null,
   "metadata": {},
   "outputs": [],
   "source": [
    "table = pd.read_csv(rootdir + \"dna/binning/dastool/_DASTool_scaffolds2bin.txt\", sep=\"\\t\", header=None, names=[\"scaffold\", \"bin\"])\n",
    "table.head()"
   ]
  },
  {
   "cell_type": "markdown",
   "metadata": {},
   "source": [
    "Follow with manual integration of autobins with manual bins, renaming, etc."
   ]
  },
  {
   "cell_type": "markdown",
   "metadata": {},
   "source": [
    "# curate bins"
   ]
  },
  {
   "cell_type": "markdown",
   "metadata": {},
   "source": [
    "Download scaffold 2 bin file from ggkbase."
   ]
  },
  {
   "cell_type": "markdown",
   "metadata": {},
   "source": [
    "### create first pass bin files"
   ]
  },
  {
   "cell_type": "code",
   "execution_count": null,
   "metadata": {},
   "outputs": [],
   "source": [
    "cmdir(rootdir + \"dna/genomes\")\n",
    "cmdir(rootdir + \"dna/genomes/prelim_genomes\")"
   ]
  },
  {
   "cell_type": "code",
   "execution_count": 4,
   "metadata": {},
   "outputs": [],
   "source": [
    "# read in scaffolds\n",
    "assembly = {record.description.split(\" \")[0]: str(record.seq) for record in\n",
    "    SeqIO.parse(open(\"/groups/banfield/projects/environmental/LacPavin/QB3_09_14_20/assembly.d/ALND/megahit/LacPavin_0920_ALND_scaffold_min1000.fa\"), \"fasta\")}"
   ]
  },
  {
   "cell_type": "code",
   "execution_count": null,
   "metadata": {},
   "outputs": [],
   "source": [
    "scaf2bin = pd.read_csv(rootdir + \"dna/genomes/LacPavin_0920_ALND.scaffolds_to_bin.tsv\", sep=\"\\t\")\n",
    "\n",
    "for bin in scaf2bin[\"bin\"].unique():\n",
    "    if (\"UNK\" not in bin) and (\"Phage\" not in bin) and (\"Virus\" not in bin) \\\n",
    "        and (\"virus\" not in bin) and (\"Mobile\" not in bin):\n",
    "        with open(rootdir + \"dna/genomes/prelim_genomes/\" + bin + \".fna\", \"w\") as out:\n",
    "            for key, row in scaf2bin[scaf2bin[\"bin\"]==bin].iterrows():\n",
    "                out.write(\">\" + row[\"scaffold_name\"] + \"\\n\" + assembly[row[\"scaffold_name\"]] + \"\\n\")"
   ]
  },
  {
   "cell_type": "markdown",
   "metadata": {},
   "source": [
    "### quality assessment - all"
   ]
  },
  {
   "cell_type": "code",
   "execution_count": null,
   "metadata": {},
   "outputs": [],
   "source": [
    "call = \"sbatch -J checkm --wrap '/shared/software/bin/checkm lineage_wf -t 48 -x .fna \" + \\\n",
    "    rootdir + \"dna/genomes/prelim_genomes/ \" + rootdir + \"dna/genomes/checkm_all/'\"\n",
    "call2 = \"checkm qa -t 16 -o 1 -f output_table.txt --tab_table lineage.ms .\"\n",
    "print(call2)"
   ]
  },
  {
   "cell_type": "code",
   "execution_count": null,
   "metadata": {},
   "outputs": [],
   "source": [
    "# read in\n",
    "checkm_results = pd.read_csv(rootdir + \"dna/genomes/checkm_all/output_table.txt\", sep=\"\\t\")\n",
    "# remove cpr\n",
    "checkm_sub = checkm_results[(~checkm_results[\"Bin Id\"].str.contains(\"Parcubacteria\")) & (~checkm_results[\"Bin Id\"].str.contains(\"Kaiser\")) \\\n",
    "               & (~checkm_results[\"Bin Id\"].str.contains(\"PER-ii\")) & (~checkm_results[\"Bin Id\"].str.contains(\"Nomura\"))]\n",
    "checkm_sub = checkm_sub[[\"Bin Id\", \"Completeness\", \"Contamination\"]]\n",
    "checkm_sub.columns = [\"genome\", \"checkm_completeness\", \"checkm_contamination\"]\n",
    "checkm_sub.head()"
   ]
  },
  {
   "cell_type": "markdown",
   "metadata": {},
   "source": [
    "### quality assessment - cpr"
   ]
  },
  {
   "cell_type": "code",
   "execution_count": null,
   "metadata": {},
   "outputs": [],
   "source": [
    "basepath = \"/groups/banfield/users/ajaffe/cpr-dpann/nr-set-complete/quality/\"\n",
    "outpath = \"/groups/banfield/projects/environmental/LacPavin/analysis/aln/dna/genomes/\"\n",
    "cprdir = \"/groups/banfield/projects/environmental/LacPavin/analysis/aln/dna/genomes/prelim_cpr_genomes/\"\n",
    "cmdir(cprdir)"
   ]
  },
  {
   "cell_type": "code",
   "execution_count": null,
   "metadata": {},
   "outputs": [],
   "source": [
    "# separate out CPR\n",
    "for genome in glob.glob(rootdir + \"/dna/genomes/prelim_genomes/*\"):\n",
    "    if (\"Parcubacteria\" in genome) or (\"Nomurabacteria\" in genome) \\\n",
    "        or (\"Kaiser\" in genome) or (\"PER-ii\" in genome):\n",
    "        sp.call(\"cp %s %s\" %(genome, cprdir), shell=True)"
   ]
  },
  {
   "cell_type": "code",
   "execution_count": 16,
   "metadata": {},
   "outputs": [],
   "source": [
    "# run checkm with custom marker set\n",
    "for hmm_set in [\"Pfams\", \"TIGRFAMs\"]:\n",
    "    \n",
    "    cmdir(outpath + \"checkm_cpr_\" + hmm_set)\n",
    "    call = \"/shared/software/bin/checkm analyze -t 16 -x .fna \" + basepath + \"hmms/\" + hmm_set + \".hmm \" + \\\n",
    "        cprdir + \" \" + outpath + \"checkm_cpr_\" + hmm_set\n",
    "    call2 = \"/shared/software/bin/checkm qa -t 16 -o 1 \" + basepath + \"hmms/\" + hmm_set + \".hmm \" + \\\n",
    "        outpath + \"checkm_cpr_\" + hmm_set + \" > \" + outpath + \"checkm_cpr_\" + hmm_set + \"/\" + hmm_set + \".checkm.summary\"\n",
    "    #print(call)\n",
    "    #print(call2)"
   ]
  },
  {
   "cell_type": "code",
   "execution_count": 20,
   "metadata": {},
   "outputs": [],
   "source": [
    "# read in checkm results\n",
    "qa_results = []\n",
    "\n",
    "for summary in glob.glob(outpath + \"*checkm*s_curated/*summary\"):\n",
    "\n",
    "    name = os.path.basename(summary).split(\".\")[0]\n",
    "    # reformat table\n",
    "    with open(summary + \".cleaned\", \"w\") as outfile:\n",
    "        for line in open(summary).readlines():\n",
    "            if (\"----\" not in line) and (\"INFO\" not in line):\n",
    "                outfile.write(line)\n",
    "    \n",
    "    # back-caculate con/com\n",
    "    cleaned_table = pd.read_csv(summary + \".cleaned\", sep=\"\\s\\s+\")\n",
    "    cleaned_table[\"genome\"] = cleaned_table[\"Bin Id\"].apply(lambda x: x.replace(\".contigs\",\"\"))\n",
    "    cleaned_table[name + \"_com\"] = cleaned_table.apply(lambda x: sum([x[i] for i in ['1', '2', '3', '4', '5+']]), axis=1)\n",
    "    cleaned_table[name + \"_con\"] = cleaned_table.apply(lambda x: sum([x[i] for i in ['2', '3', '4', '5+']]), axis=1)\n",
    "    qa_results.append(cleaned_table[[\"genome\", name + \"_com\", name + \"_con\"]])"
   ]
  },
  {
   "cell_type": "code",
   "execution_count": 21,
   "metadata": {},
   "outputs": [
    {
     "data": {
      "text/html": [
       "<div>\n",
       "<style scoped>\n",
       "    .dataframe tbody tr th:only-of-type {\n",
       "        vertical-align: middle;\n",
       "    }\n",
       "\n",
       "    .dataframe tbody tr th {\n",
       "        vertical-align: top;\n",
       "    }\n",
       "\n",
       "    .dataframe thead th {\n",
       "        text-align: right;\n",
       "    }\n",
       "</style>\n",
       "<table border=\"1\" class=\"dataframe\">\n",
       "  <thead>\n",
       "    <tr style=\"text-align: right;\">\n",
       "      <th></th>\n",
       "      <th>genome</th>\n",
       "      <th>TIGRFAMs_com</th>\n",
       "      <th>TIGRFAMs_con</th>\n",
       "      <th>Pfams_com</th>\n",
       "      <th>Pfams_con</th>\n",
       "      <th>checkm_completeness</th>\n",
       "      <th>checkm_contamination</th>\n",
       "    </tr>\n",
       "  </thead>\n",
       "  <tbody>\n",
       "    <tr>\n",
       "      <th>0</th>\n",
       "      <td>LacPavin_0920_ALND_Parcubacteria_55_23</td>\n",
       "      <td>38</td>\n",
       "      <td>0</td>\n",
       "      <td>4</td>\n",
       "      <td>0</td>\n",
       "      <td>97.674419</td>\n",
       "      <td>0.0</td>\n",
       "    </tr>\n",
       "    <tr>\n",
       "      <th>1</th>\n",
       "      <td>LacPavin_0920_ALND_Parcubacteria_54_14</td>\n",
       "      <td>38</td>\n",
       "      <td>0</td>\n",
       "      <td>4</td>\n",
       "      <td>0</td>\n",
       "      <td>97.674419</td>\n",
       "      <td>0.0</td>\n",
       "    </tr>\n",
       "    <tr>\n",
       "      <th>2</th>\n",
       "      <td>LacPavin_0920_ALND_Parcubacteria_45_23</td>\n",
       "      <td>38</td>\n",
       "      <td>0</td>\n",
       "      <td>4</td>\n",
       "      <td>0</td>\n",
       "      <td>97.674419</td>\n",
       "      <td>0.0</td>\n",
       "    </tr>\n",
       "    <tr>\n",
       "      <th>3</th>\n",
       "      <td>LacPavin_0920_ALND_Parcubacteria_41_22</td>\n",
       "      <td>38</td>\n",
       "      <td>0</td>\n",
       "      <td>4</td>\n",
       "      <td>0</td>\n",
       "      <td>97.674419</td>\n",
       "      <td>0.0</td>\n",
       "    </tr>\n",
       "    <tr>\n",
       "      <th>4</th>\n",
       "      <td>LacPavin_0920_ALND_PER-ii_52_24</td>\n",
       "      <td>38</td>\n",
       "      <td>0</td>\n",
       "      <td>4</td>\n",
       "      <td>0</td>\n",
       "      <td>97.674419</td>\n",
       "      <td>0.0</td>\n",
       "    </tr>\n",
       "  </tbody>\n",
       "</table>\n",
       "</div>"
      ],
      "text/plain": [
       "                                   genome  TIGRFAMs_com  TIGRFAMs_con  \\\n",
       "0  LacPavin_0920_ALND_Parcubacteria_55_23            38             0   \n",
       "1  LacPavin_0920_ALND_Parcubacteria_54_14            38             0   \n",
       "2  LacPavin_0920_ALND_Parcubacteria_45_23            38             0   \n",
       "3  LacPavin_0920_ALND_Parcubacteria_41_22            38             0   \n",
       "4         LacPavin_0920_ALND_PER-ii_52_24            38             0   \n",
       "\n",
       "   Pfams_com  Pfams_con  checkm_completeness  checkm_contamination  \n",
       "0          4          0            97.674419                   0.0  \n",
       "1          4          0            97.674419                   0.0  \n",
       "2          4          0            97.674419                   0.0  \n",
       "3          4          0            97.674419                   0.0  \n",
       "4          4          0            97.674419                   0.0  "
      ]
     },
     "execution_count": 21,
     "metadata": {},
     "output_type": "execute_result"
    }
   ],
   "source": [
    "# merge results\n",
    "qmerged = pd.merge(qa_results[0], qa_results[1])\n",
    "qmerged[\"checkm_completeness\"] = qmerged.apply(lambda x: (x[\"Pfams_com\"] + x[\"TIGRFAMs_com\"])/float(43)*100, axis=1)\n",
    "qmerged[\"checkm_contamination\"] = qmerged.apply(lambda x: (x[\"Pfams_con\"] + x[\"TIGRFAMs_con\"])/float(43)*100, axis=1)\n",
    "qmerged.head()"
   ]
  },
  {
   "cell_type": "markdown",
   "metadata": {},
   "source": [
    "### integrate + drep"
   ]
  },
  {
   "cell_type": "code",
   "execution_count": null,
   "metadata": {},
   "outputs": [],
   "source": [
    "cmdir(rootdir + \"dna/genomes/dRep-workspace\")"
   ]
  },
  {
   "cell_type": "code",
   "execution_count": null,
   "metadata": {},
   "outputs": [],
   "source": [
    "# combine and make quality file\n",
    "combined = pd.concat([qmerged[[\"genome\", \"checkm_completeness\", \"checkm_contamination\"]], checkm_sub])\n",
    "# write out quality file\n",
    "with open(rootdir + \"dna/genomes/dRep-workspace/genomeInformation.csv\", \"w\") as genome_info:\n",
    "    genome_info.write(\"genome,completeness,contamination\\n\")\n",
    "    for key, row in combined.iterrows():\n",
    "        genome_info.write(row[\"genome\"] + \".fna,\" + str(row[\"checkm_completeness\"]) + \",\" + str(row[\"checkm_contamination\"]) + \"\\n\")"
   ]
  },
  {
   "cell_type": "code",
   "execution_count": null,
   "metadata": {},
   "outputs": [],
   "source": [
    "def start_dRep():\n",
    "    \n",
    "    call = \"dRep dereplicate \" + rootdir + \"dna/genomes/dRep-workspace/ -sa 0.95 -p 20 -comp 70 -con 10 -d -g \" + \\\n",
    "        rootdir + \"dna/genomes/prelim_genomes/*fna --genomeInfo \" + rootdir + \"dna/genomes/dRep-workspace/genomeInformation.csv\"\n",
    "    print(call)\n",
    "    \n",
    "start_dRep()"
   ]
  },
  {
   "cell_type": "markdown",
   "metadata": {},
   "source": [
    "Then manually curate the remainders..."
   ]
  },
  {
   "cell_type": "markdown",
   "metadata": {},
   "source": [
    "# finalize"
   ]
  },
  {
   "cell_type": "code",
   "execution_count": null,
   "metadata": {},
   "outputs": [],
   "source": [
    "cmdir(rootdir + \"dna/genomes/final_genomes\")"
   ]
  },
  {
   "cell_type": "code",
   "execution_count": 6,
   "metadata": {},
   "outputs": [],
   "source": [
    "scaf2bin = pd.read_csv(rootdir + \"dna/genomes/LacPavin_0920_ALND.scaffolds_to_bin_curated.tsv\", sep=\"\\t\")\n",
    "drep_genomes = [os.path.basename(item).split(\".\")[0] for item in glob.glob(rootdir + \"dna/genomes/dRep-workspace/dereplicated_genomes/*\")]"
   ]
  },
  {
   "cell_type": "code",
   "execution_count": null,
   "metadata": {},
   "outputs": [],
   "source": [
    "for bin in scaf2bin[\"bin\"].unique():\n",
    "    if (\"UNK\" not in bin) and (\"Phage\" not in bin) and (\"Virus\" not in bin) \\\n",
    "        and (\"virus\" not in bin) and (\"Mobile\" not in bin) and (bin in drep_genomes):\n",
    "        with open(rootdir + \"dna/genomes/final_genomes/\" + bin + \".fna\", \"w\") as out:\n",
    "            for key, row in scaf2bin[scaf2bin[\"bin\"]==bin].iterrows():\n",
    "                out.write(\">\" + row[\"scaffold_name\"] + \"\\n\" + assembly[row[\"scaffold_name\"]] + \"\\n\")"
   ]
  },
  {
   "cell_type": "code",
   "execution_count": null,
   "metadata": {},
   "outputs": [],
   "source": [
    "# regenerate quality\n",
    "call = \"sbatch -J checkm --wrap '/shared/software/bin/checkm lineage_wf -t 20 -x .fna \" + \\\n",
    "    rootdir + \"dna/genomes/final_genomes/ \" + rootdir + \"dna/genomes/checkm_all_curated/'\"\n",
    "call2 = \"checkm qa -t 16 -o 1 -f output_table.txt --tab_table lineage.ms .\"\n",
    "print(call2)"
   ]
  },
  {
   "cell_type": "code",
   "execution_count": 7,
   "metadata": {},
   "outputs": [
    {
     "data": {
      "text/html": [
       "<div>\n",
       "<style scoped>\n",
       "    .dataframe tbody tr th:only-of-type {\n",
       "        vertical-align: middle;\n",
       "    }\n",
       "\n",
       "    .dataframe tbody tr th {\n",
       "        vertical-align: top;\n",
       "    }\n",
       "\n",
       "    .dataframe thead th {\n",
       "        text-align: right;\n",
       "    }\n",
       "</style>\n",
       "<table border=\"1\" class=\"dataframe\">\n",
       "  <thead>\n",
       "    <tr style=\"text-align: right;\">\n",
       "      <th></th>\n",
       "      <th>genome</th>\n",
       "      <th>checkm_completeness</th>\n",
       "      <th>checkm_contamination</th>\n",
       "    </tr>\n",
       "  </thead>\n",
       "  <tbody>\n",
       "    <tr>\n",
       "      <th>0</th>\n",
       "      <td>LacPavin_0920_ALND_Actinobacteria_63_63</td>\n",
       "      <td>93.59</td>\n",
       "      <td>2.14</td>\n",
       "    </tr>\n",
       "    <tr>\n",
       "      <th>1</th>\n",
       "      <td>LacPavin_0920_ALND_Alphaproteobacteria_58_11</td>\n",
       "      <td>96.16</td>\n",
       "      <td>2.20</td>\n",
       "    </tr>\n",
       "    <tr>\n",
       "      <th>2</th>\n",
       "      <td>LacPavin_0920_ALND_Alphaproteobacteria_61_16</td>\n",
       "      <td>76.93</td>\n",
       "      <td>2.33</td>\n",
       "    </tr>\n",
       "    <tr>\n",
       "      <th>3</th>\n",
       "      <td>LacPavin_0920_ALND_Armatimonadetes_54_8</td>\n",
       "      <td>93.98</td>\n",
       "      <td>2.78</td>\n",
       "    </tr>\n",
       "    <tr>\n",
       "      <th>4</th>\n",
       "      <td>LacPavin_0920_ALND_Bacteria_57_7</td>\n",
       "      <td>73.03</td>\n",
       "      <td>1.78</td>\n",
       "    </tr>\n",
       "  </tbody>\n",
       "</table>\n",
       "</div>"
      ],
      "text/plain": [
       "                                         genome  checkm_completeness  \\\n",
       "0       LacPavin_0920_ALND_Actinobacteria_63_63                93.59   \n",
       "1  LacPavin_0920_ALND_Alphaproteobacteria_58_11                96.16   \n",
       "2  LacPavin_0920_ALND_Alphaproteobacteria_61_16                76.93   \n",
       "3       LacPavin_0920_ALND_Armatimonadetes_54_8                93.98   \n",
       "4              LacPavin_0920_ALND_Bacteria_57_7                73.03   \n",
       "\n",
       "   checkm_contamination  \n",
       "0                  2.14  \n",
       "1                  2.20  \n",
       "2                  2.33  \n",
       "3                  2.78  \n",
       "4                  1.78  "
      ]
     },
     "execution_count": 7,
     "metadata": {},
     "output_type": "execute_result"
    }
   ],
   "source": [
    "# read in\n",
    "checkm_results = pd.read_csv(rootdir + \"dna/genomes/checkm_all_curated/output_table.txt\", sep=\"\\t\")\n",
    "# remove cpr\n",
    "checkm_sub = checkm_results[(~checkm_results[\"Bin Id\"].str.contains(\"Parcubacteria\")) & (~checkm_results[\"Bin Id\"].str.contains(\"Kaiser\")) \\\n",
    "               & (~checkm_results[\"Bin Id\"].str.contains(\"PER-ii\")) & (~checkm_results[\"Bin Id\"].str.contains(\"Nomura\"))]\n",
    "checkm_sub = checkm_sub[[\"Bin Id\", \"Completeness\", \"Contamination\"]]\n",
    "checkm_sub.columns = [\"genome\", \"checkm_completeness\", \"checkm_contamination\"]\n",
    "checkm_sub.head()"
   ]
  },
  {
   "cell_type": "markdown",
   "metadata": {},
   "source": [
    "For CPR, modify commands above..."
   ]
  },
  {
   "cell_type": "code",
   "execution_count": null,
   "metadata": {},
   "outputs": [],
   "source": [
    "cprdir = \"/groups/banfield/projects/environmental/LacPavin/analysis/aln/dna/genomes/final_cpr_genomes/\"\n",
    "cmdir(cprdir)"
   ]
  },
  {
   "cell_type": "code",
   "execution_count": null,
   "metadata": {},
   "outputs": [],
   "source": [
    "# separate out CPR\n",
    "for genome in glob.glob(rootdir + \"/dna/genomes/final_genomes/*\"):\n",
    "    if (\"Parcubacteria\" in genome) or (\"Nomurabacteria\" in genome) \\\n",
    "        or (\"Kaiser\" in genome) or (\"PER-ii\" in genome):\n",
    "        sp.call(\"cp %s %s\" %(genome, cprdir), shell=True)"
   ]
  },
  {
   "cell_type": "markdown",
   "metadata": {},
   "source": [
    "Replace Per-ii genome with curated version both here and in final_genomes folder."
   ]
  },
  {
   "cell_type": "code",
   "execution_count": 22,
   "metadata": {},
   "outputs": [
    {
     "data": {
      "text/html": [
       "<div>\n",
       "<style scoped>\n",
       "    .dataframe tbody tr th:only-of-type {\n",
       "        vertical-align: middle;\n",
       "    }\n",
       "\n",
       "    .dataframe tbody tr th {\n",
       "        vertical-align: top;\n",
       "    }\n",
       "\n",
       "    .dataframe thead th {\n",
       "        text-align: right;\n",
       "    }\n",
       "</style>\n",
       "<table border=\"1\" class=\"dataframe\">\n",
       "  <thead>\n",
       "    <tr style=\"text-align: right;\">\n",
       "      <th></th>\n",
       "      <th>genome</th>\n",
       "      <th>TIGRFAMs_com</th>\n",
       "      <th>TIGRFAMs_con</th>\n",
       "      <th>Pfams_com</th>\n",
       "      <th>Pfams_con</th>\n",
       "      <th>checkm_completeness</th>\n",
       "      <th>checkm_contamination</th>\n",
       "    </tr>\n",
       "  </thead>\n",
       "  <tbody>\n",
       "    <tr>\n",
       "      <th>0</th>\n",
       "      <td>LacPavin_0920_ALND_Parcubacteria_55_23</td>\n",
       "      <td>38</td>\n",
       "      <td>0</td>\n",
       "      <td>4</td>\n",
       "      <td>0</td>\n",
       "      <td>97.674419</td>\n",
       "      <td>0.0</td>\n",
       "    </tr>\n",
       "    <tr>\n",
       "      <th>1</th>\n",
       "      <td>LacPavin_0920_ALND_Parcubacteria_54_14</td>\n",
       "      <td>38</td>\n",
       "      <td>0</td>\n",
       "      <td>4</td>\n",
       "      <td>0</td>\n",
       "      <td>97.674419</td>\n",
       "      <td>0.0</td>\n",
       "    </tr>\n",
       "    <tr>\n",
       "      <th>2</th>\n",
       "      <td>LacPavin_0920_ALND_Parcubacteria_45_23</td>\n",
       "      <td>38</td>\n",
       "      <td>0</td>\n",
       "      <td>4</td>\n",
       "      <td>0</td>\n",
       "      <td>97.674419</td>\n",
       "      <td>0.0</td>\n",
       "    </tr>\n",
       "    <tr>\n",
       "      <th>3</th>\n",
       "      <td>LacPavin_0920_ALND_Parcubacteria_41_22</td>\n",
       "      <td>38</td>\n",
       "      <td>0</td>\n",
       "      <td>4</td>\n",
       "      <td>0</td>\n",
       "      <td>97.674419</td>\n",
       "      <td>0.0</td>\n",
       "    </tr>\n",
       "    <tr>\n",
       "      <th>4</th>\n",
       "      <td>LacPavin_0920_ALND_PER-ii_52_24</td>\n",
       "      <td>38</td>\n",
       "      <td>0</td>\n",
       "      <td>4</td>\n",
       "      <td>0</td>\n",
       "      <td>97.674419</td>\n",
       "      <td>0.0</td>\n",
       "    </tr>\n",
       "  </tbody>\n",
       "</table>\n",
       "</div>"
      ],
      "text/plain": [
       "                                   genome  TIGRFAMs_com  TIGRFAMs_con  \\\n",
       "0  LacPavin_0920_ALND_Parcubacteria_55_23            38             0   \n",
       "1  LacPavin_0920_ALND_Parcubacteria_54_14            38             0   \n",
       "2  LacPavin_0920_ALND_Parcubacteria_45_23            38             0   \n",
       "3  LacPavin_0920_ALND_Parcubacteria_41_22            38             0   \n",
       "4         LacPavin_0920_ALND_PER-ii_52_24            38             0   \n",
       "\n",
       "   Pfams_com  Pfams_con  checkm_completeness  checkm_contamination  \n",
       "0          4          0            97.674419                   0.0  \n",
       "1          4          0            97.674419                   0.0  \n",
       "2          4          0            97.674419                   0.0  \n",
       "3          4          0            97.674419                   0.0  \n",
       "4          4          0            97.674419                   0.0  "
      ]
     },
     "execution_count": 22,
     "metadata": {},
     "output_type": "execute_result"
    }
   ],
   "source": [
    "# merge results\n",
    "qmerged = pd.merge(qa_results[0], qa_results[1])\n",
    "qmerged[\"checkm_completeness\"] = qmerged.apply(lambda x: (x[\"Pfams_com\"] + x[\"TIGRFAMs_com\"])/float(43)*100, axis=1)\n",
    "qmerged[\"checkm_contamination\"] = qmerged.apply(lambda x: (x[\"Pfams_con\"] + x[\"TIGRFAMs_con\"])/float(43)*100, axis=1)\n",
    "qmerged.head()"
   ]
  },
  {
   "cell_type": "code",
   "execution_count": null,
   "metadata": {},
   "outputs": [
    {
     "data": {
      "text/html": [
       "<div>\n",
       "<style scoped>\n",
       "    .dataframe tbody tr th:only-of-type {\n",
       "        vertical-align: middle;\n",
       "    }\n",
       "\n",
       "    .dataframe tbody tr th {\n",
       "        vertical-align: top;\n",
       "    }\n",
       "\n",
       "    .dataframe thead th {\n",
       "        text-align: right;\n",
       "    }\n",
       "</style>\n",
       "<table border=\"1\" class=\"dataframe\">\n",
       "  <thead>\n",
       "    <tr style=\"text-align: right;\">\n",
       "      <th></th>\n",
       "      <th>genome</th>\n",
       "      <th>checkm_completeness</th>\n",
       "      <th>checkm_contamination</th>\n",
       "      <th>scaffold_number</th>\n",
       "    </tr>\n",
       "  </thead>\n",
       "  <tbody>\n",
       "    <tr>\n",
       "      <th>0</th>\n",
       "      <td>LacPavin_0920_ALND_Actinobacteria_63_63</td>\n",
       "      <td>93.59</td>\n",
       "      <td>2.14</td>\n",
       "      <td>3162</td>\n",
       "    </tr>\n",
       "    <tr>\n",
       "      <th>1</th>\n",
       "      <td>LacPavin_0920_ALND_Alphaproteobacteria_58_11</td>\n",
       "      <td>96.16</td>\n",
       "      <td>2.20</td>\n",
       "      <td>87</td>\n",
       "    </tr>\n",
       "    <tr>\n",
       "      <th>2</th>\n",
       "      <td>LacPavin_0920_ALND_Alphaproteobacteria_61_16</td>\n",
       "      <td>76.93</td>\n",
       "      <td>2.33</td>\n",
       "      <td>3803</td>\n",
       "    </tr>\n",
       "    <tr>\n",
       "      <th>3</th>\n",
       "      <td>LacPavin_0920_ALND_Armatimonadetes_54_8</td>\n",
       "      <td>93.98</td>\n",
       "      <td>2.78</td>\n",
       "      <td>282</td>\n",
       "    </tr>\n",
       "    <tr>\n",
       "      <th>4</th>\n",
       "      <td>LacPavin_0920_ALND_Bacteria_57_7</td>\n",
       "      <td>73.03</td>\n",
       "      <td>1.78</td>\n",
       "      <td>2580</td>\n",
       "    </tr>\n",
       "  </tbody>\n",
       "</table>\n",
       "</div>"
      ],
      "text/plain": [
       "                                         genome  checkm_completeness  \\\n",
       "0       LacPavin_0920_ALND_Actinobacteria_63_63                93.59   \n",
       "1  LacPavin_0920_ALND_Alphaproteobacteria_58_11                96.16   \n",
       "2  LacPavin_0920_ALND_Alphaproteobacteria_61_16                76.93   \n",
       "3       LacPavin_0920_ALND_Armatimonadetes_54_8                93.98   \n",
       "4              LacPavin_0920_ALND_Bacteria_57_7                73.03   \n",
       "\n",
       "   checkm_contamination  scaffold_number  \n",
       "0                  2.14             3162  \n",
       "1                  2.20               87  \n",
       "2                  2.33             3803  \n",
       "3                  2.78              282  \n",
       "4                  1.78             2580  "
      ]
     },
     "execution_count": 23,
     "metadata": {},
     "output_type": "execute_result"
    }
   ],
   "source": [
    "# create metadata base\n",
    "final_metadata = pd.concat([checkm_sub, qmerged[[\"genome\", \"checkm_completeness\", \"checkm_contamination\"]]])\n",
    "\n",
    "scaf_nums = {}\n",
    "for genome in glob.glob(rootdir + \"dna/genomes/final_genomes/*\"):\n",
    "    scaf_nums[os.path.basename(genome).split(\".\")[0]] = len([record for record in SeqIO.parse(open(genome), \"fasta\")])\n",
    "final_metadata[\"scaffold_number\"] = final_metadata[\"genome\"].map(scaf_nums)\n",
    "final_metadata.head()"
   ]
  },
  {
   "cell_type": "markdown",
   "metadata": {},
   "source": [
    "Then write out to manually fill in taxonomy, eventually add NCBI info..."
   ]
  },
  {
   "cell_type": "code",
   "execution_count": 26,
   "metadata": {},
   "outputs": [],
   "source": [
    "cmdir(rootdir + \"tables\")\n",
    "final_metadata.sort_values(\"genome\").to_csv(rootdir + \"tables/genome_metadata_base.tsv\", sep=\"\\t\", index=False)"
   ]
  }
 ],
 "metadata": {
  "kernelspec": {
   "display_name": "Python 3",
   "language": "python",
   "name": "python3"
  },
  "language_info": {
   "codemirror_mode": {
    "name": "ipython",
    "version": 3
   },
   "file_extension": ".py",
   "mimetype": "text/x-python",
   "name": "python",
   "nbconvert_exporter": "python",
   "pygments_lexer": "ipython3",
   "version": "3.8.2"
  }
 },
 "nbformat": 4,
 "nbformat_minor": 4
}
